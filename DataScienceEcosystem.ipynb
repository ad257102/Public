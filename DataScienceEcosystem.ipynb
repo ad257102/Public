{
 "cells": [
  {
   "cell_type": "markdown",
   "id": "cfb339f0-a42a-407e-a47c-d93716aeec43",
   "metadata": {},
   "source": [
    "# Data Science Tools and Eco System"
   ]
  },
  {
   "cell_type": "markdown",
   "id": "8dee1ad9-bcc1-4204-a3ad-e036911304e2",
   "metadata": {},
   "source": [
    "## In this notebook, Data Science Tools and Ecosystem are summarized."
   ]
  },
  {
   "cell_type": "markdown",
   "id": "1ede708e-4514-49d0-a125-be971c16f028",
   "metadata": {},
   "source": [
    "Some of the popular languages that Data Scientists use are:\n",
    "1. Excel\n",
    "2. R\n",
    "3. Python"
   ]
  },
  {
   "cell_type": "markdown",
   "id": "25235815-67f0-483a-86ac-bd27766e297c",
   "metadata": {},
   "source": [
    "Some of the commonly used libraries used by Data Scientists include:\n",
    "1. DPLYR\n",
    "2. GGPLOT2\n",
    "3. CARET"
   ]
  },
  {
   "cell_type": "markdown",
   "id": "a41b79c5-8857-4f7a-aab0-4f3dac5a88b1",
   "metadata": {
    "tags": []
   },
   "source": [
    "|Data Science Tools|\n",
    "|------------------|\n",
    "|MySQL             |\n",
    "|PostGRESQL        |\n",
    "|MongoDB           |\n",
    "|Hadoop            |"
   ]
  },
  {
   "cell_type": "markdown",
   "id": "c7fd31d9-1eae-4e91-8510-79fb04d33584",
   "metadata": {},
   "source": [
    "### Below are a few examples of evaluating arithmetic expressions in Python"
   ]
  },
  {
   "cell_type": "code",
   "execution_count": 12,
   "id": "f94ef61e-5384-4444-8f6a-daf08923412e",
   "metadata": {
    "tags": []
   },
   "outputs": [
    {
     "name": "stdout",
     "output_type": "stream",
     "text": [
      "This a simple arithmetic expression to mutiply then add integers.\n"
     ]
    },
    {
     "data": {
      "text/plain": [
       "17"
      ]
     },
     "execution_count": 12,
     "metadata": {},
     "output_type": "execute_result"
    }
   ],
   "source": [
    "print(\"This a simple arithmetic expression to mutiply then add integers.\")\n",
    "(3*4)+5"
   ]
  },
  {
   "cell_type": "code",
   "execution_count": 16,
   "id": "bc542954-748a-490f-8df8-3fad2755b9f7",
   "metadata": {
    "tags": []
   },
   "outputs": [
    {
     "name": "stdout",
     "output_type": "stream",
     "text": [
      "This will convert 200 minutes to hours by diving by 60.\n",
      "3.3333333333333335\n"
     ]
    }
   ],
   "source": [
    "print(\"This will convert 200 minutes to hours by diving by 60.\")\n",
    "minutes = 200\n",
    "Hours = minutes/60\n",
    "print(Hours)"
   ]
  },
  {
   "cell_type": "markdown",
   "id": "68124abe-1d9a-4372-8f5b-6f91798807e2",
   "metadata": {},
   "source": [
    "**Objective:**\n",
    "- List popular languages for Data Science\n",
    "- List popular libraries for Data Science\n",
    "- List Data Science Open Source Tools\n",
    "- Demenstrate coding in Notebooks"
   ]
  },
  {
   "cell_type": "markdown",
   "id": "bdccf9e5-4584-4f40-9754-08a993e8005e",
   "metadata": {},
   "source": [
    "## Author ##\n",
    "Andrew Deaton"
   ]
  },
  {
   "cell_type": "code",
   "execution_count": null,
   "id": "4067eba4-d4dd-4797-b576-a4105ea92158",
   "metadata": {},
   "outputs": [],
   "source": []
  }
 ],
 "metadata": {
  "kernelspec": {
   "display_name": "Python 3 (ipykernel)",
   "language": "python",
   "name": "python3"
  },
  "language_info": {
   "codemirror_mode": {
    "name": "ipython",
    "version": 3
   },
   "file_extension": ".py",
   "mimetype": "text/x-python",
   "name": "python",
   "nbconvert_exporter": "python",
   "pygments_lexer": "ipython3",
   "version": "3.11.5"
  }
 },
 "nbformat": 4,
 "nbformat_minor": 5
}
